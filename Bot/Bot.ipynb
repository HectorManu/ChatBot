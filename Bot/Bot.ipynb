{
 "cells": [
  {
   "cell_type": "code",
   "execution_count": 1,
   "id": "6ead6a25",
   "metadata": {},
   "outputs": [
    {
     "name": "stdout",
     "output_type": "stream",
     "text": [
      "Requirement already satisfied: pywhatkit in e:\\aplicaciones\\anaconda3\\envs\\automatizandomivida\\lib\\site-packages (5.4)\n",
      "Requirement already satisfied: pyautogui in e:\\aplicaciones\\anaconda3\\envs\\automatizandomivida\\lib\\site-packages (from pywhatkit) (0.9.53)\n",
      "Requirement already satisfied: wikipedia in e:\\aplicaciones\\anaconda3\\envs\\automatizandomivida\\lib\\site-packages (from pywhatkit) (1.4.0)\n",
      "Requirement already satisfied: Pillow in e:\\aplicaciones\\anaconda3\\envs\\automatizandomivida\\lib\\site-packages (from pywhatkit) (9.2.0)\n",
      "Requirement already satisfied: Flask in e:\\aplicaciones\\anaconda3\\envs\\automatizandomivida\\lib\\site-packages (from pywhatkit) (2.2.2)\n",
      "Requirement already satisfied: requests in e:\\aplicaciones\\anaconda3\\envs\\automatizandomivida\\lib\\site-packages (from pywhatkit) (2.28.1)\n",
      "Requirement already satisfied: importlib-metadata>=3.6.0 in e:\\aplicaciones\\anaconda3\\envs\\automatizandomivida\\lib\\site-packages (from Flask->pywhatkit) (5.0.0)\n",
      "Requirement already satisfied: Werkzeug>=2.2.2 in e:\\aplicaciones\\anaconda3\\envs\\automatizandomivida\\lib\\site-packages (from Flask->pywhatkit) (2.2.2)\n",
      "Requirement already satisfied: Jinja2>=3.0 in e:\\aplicaciones\\anaconda3\\envs\\automatizandomivida\\lib\\site-packages (from Flask->pywhatkit) (3.0.3)\n",
      "Requirement already satisfied: itsdangerous>=2.0 in e:\\aplicaciones\\anaconda3\\envs\\automatizandomivida\\lib\\site-packages (from Flask->pywhatkit) (2.1.2)\n",
      "Requirement already satisfied: click>=8.0 in e:\\aplicaciones\\anaconda3\\envs\\automatizandomivida\\lib\\site-packages (from Flask->pywhatkit) (8.1.3)\n",
      "Requirement already satisfied: pygetwindow>=0.0.5 in e:\\aplicaciones\\anaconda3\\envs\\automatizandomivida\\lib\\site-packages (from pyautogui->pywhatkit) (0.0.9)\n",
      "Requirement already satisfied: mouseinfo in e:\\aplicaciones\\anaconda3\\envs\\automatizandomivida\\lib\\site-packages (from pyautogui->pywhatkit) (0.1.3)\n",
      "Requirement already satisfied: PyTweening>=1.0.1 in e:\\aplicaciones\\anaconda3\\envs\\automatizandomivida\\lib\\site-packages (from pyautogui->pywhatkit) (1.0.4)\n",
      "Requirement already satisfied: pyscreeze>=0.1.21 in e:\\aplicaciones\\anaconda3\\envs\\automatizandomivida\\lib\\site-packages (from pyautogui->pywhatkit) (0.1.28)\n",
      "Requirement already satisfied: pymsgbox in e:\\aplicaciones\\anaconda3\\envs\\automatizandomivida\\lib\\site-packages (from pyautogui->pywhatkit) (1.0.9)\n",
      "Requirement already satisfied: charset-normalizer<3,>=2 in e:\\aplicaciones\\anaconda3\\envs\\automatizandomivida\\lib\\site-packages (from requests->pywhatkit) (2.0.4)\n",
      "Requirement already satisfied: urllib3<1.27,>=1.21.1 in e:\\aplicaciones\\anaconda3\\envs\\automatizandomivida\\lib\\site-packages (from requests->pywhatkit) (1.26.11)\n",
      "Requirement already satisfied: certifi>=2017.4.17 in e:\\aplicaciones\\anaconda3\\envs\\automatizandomivida\\lib\\site-packages (from requests->pywhatkit) (2022.6.15)\n",
      "Requirement already satisfied: idna<4,>=2.5 in e:\\aplicaciones\\anaconda3\\envs\\automatizandomivida\\lib\\site-packages (from requests->pywhatkit) (3.3)\n",
      "Requirement already satisfied: beautifulsoup4 in e:\\aplicaciones\\anaconda3\\envs\\automatizandomivida\\lib\\site-packages (from wikipedia->pywhatkit) (4.11.1)\n",
      "Requirement already satisfied: colorama in e:\\aplicaciones\\anaconda3\\envs\\automatizandomivida\\lib\\site-packages (from click>=8.0->Flask->pywhatkit) (0.4.5)\n",
      "Requirement already satisfied: zipp>=0.5 in e:\\aplicaciones\\anaconda3\\envs\\automatizandomivida\\lib\\site-packages (from importlib-metadata>=3.6.0->Flask->pywhatkit) (3.9.0)\n",
      "Requirement already satisfied: MarkupSafe>=2.0 in e:\\aplicaciones\\anaconda3\\envs\\automatizandomivida\\lib\\site-packages (from Jinja2>=3.0->Flask->pywhatkit) (2.1.1)\n",
      "Requirement already satisfied: pyrect in e:\\aplicaciones\\anaconda3\\envs\\automatizandomivida\\lib\\site-packages (from pygetwindow>=0.0.5->pyautogui->pywhatkit) (0.2.0)\n",
      "Requirement already satisfied: soupsieve>1.2 in e:\\aplicaciones\\anaconda3\\envs\\automatizandomivida\\lib\\site-packages (from beautifulsoup4->wikipedia->pywhatkit) (2.3.1)\n",
      "Requirement already satisfied: pyperclip in e:\\aplicaciones\\anaconda3\\envs\\automatizandomivida\\lib\\site-packages (from mouseinfo->pyautogui->pywhatkit) (1.8.2)\n",
      "Note: you may need to restart the kernel to use updated packages.\n"
     ]
    }
   ],
   "source": [
    "pip install pywhatkit"
   ]
  },
  {
   "cell_type": "code",
   "execution_count": null,
   "id": "9e208147",
   "metadata": {},
   "outputs": [],
   "source": []
  }
 ],
 "metadata": {
  "kernelspec": {
   "display_name": "Python 3.9.12 ('AutomatizandoMiVida')",
   "language": "python",
   "name": "python3"
  },
  "language_info": {
   "codemirror_mode": {
    "name": "ipython",
    "version": 3
   },
   "file_extension": ".py",
   "mimetype": "text/x-python",
   "name": "python",
   "nbconvert_exporter": "python",
   "pygments_lexer": "ipython3",
   "version": "3.9.12"
  },
  "vscode": {
   "interpreter": {
    "hash": "2054436e0f97f77e28b2429f95887332c4cff6fea4d20ae34937d1eae1aa7365"
   }
  }
 },
 "nbformat": 4,
 "nbformat_minor": 5
}
